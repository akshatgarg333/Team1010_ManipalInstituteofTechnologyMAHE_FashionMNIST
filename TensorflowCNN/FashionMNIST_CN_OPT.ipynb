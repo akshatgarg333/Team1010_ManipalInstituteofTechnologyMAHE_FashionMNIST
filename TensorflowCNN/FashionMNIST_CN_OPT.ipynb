{
 "cells": [
  {
   "cell_type": "markdown",
   "metadata": {
    "id": "tNbaaGyN5cxq"
   },
   "source": [
    "**Fashion MNIST using CNN**"
   ]
  },
  {
   "cell_type": "markdown",
   "metadata": {
    "id": "F67WcmQ-5HLE"
   },
   "source": [
    "As seen in the previous model using a basic neural network, the accuracy was coming around 88% which is low. The accuracy can be increased using a CNN (Convolutional Neural Network)"
   ]
  },
  {
   "cell_type": "markdown",
   "metadata": {
    "id": "w1gtzdcm5nny"
   },
   "source": [
    "Importing the necessary libraries"
   ]
  },
  {
   "cell_type": "code",
   "execution_count": 2,
   "metadata": {
    "id": "_YmKCHjM5b4f"
   },
   "outputs": [],
   "source": [
    "#Various libraries for data handling, updation and visualisation\n",
    "import numpy as np\n",
    "import pandas as pd\n",
    "import matplotlib.pyplot as plt\n",
    "import seaborn as sns\n",
    "import tensorflow as tf\n",
    "from sklearn.metrics import confusion_matrix\n",
    "from sklearn.metrics import classification_report as report\n",
    "from sklearn.metrics import roc_curve, auc\n",
    "from sklearn.preprocessing import label_binarize\n",
    "from tensorflow import keras\n",
    "from tensorflow.keras.models import Sequential\n",
    "from tensorflow.keras.layers import Conv2D, MaxPooling2D, Flatten, Dense, Dropout, BatchNormalization, GlobalAveragePooling2D\n",
    "from tensorflow.keras.utils import to_categorical, plot_model\n",
    "import warnings\n",
    "warnings.filterwarnings('ignore')"
   ]
  },
  {
   "cell_type": "markdown",
   "metadata": {
    "id": "jP6LkeTS7ujk"
   },
   "source": [
    "Loading the data"
   ]
  },
  {
   "cell_type": "code",
   "execution_count": 3,
   "metadata": {
    "id": "zI-vHVyK5rn4"
   },
   "outputs": [],
   "source": [
    "#Using tensorflow to load the data\n",
    "data = tf.keras.datasets.fashion_mnist\n",
    "(train_images, train_labels), (test_images, test_labels) = data.load_data()"
   ]
  },
  {
   "cell_type": "code",
   "execution_count": 4,
   "metadata": {
    "id": "yb1FlwSbB3-U"
   },
   "outputs": [],
   "source": [
    "#Storing the labels\n",
    "labels = ['T-shirt/top', 'Trouser', 'Pullover', 'Dress', 'Coat',\n",
    "               'Sandal', 'Shirt', 'Sneaker', 'Bag', 'Ankle boot']\n"
   ]
  },
  {
   "cell_type": "markdown",
   "metadata": {
    "id": "7AjxnVdM7zjV"
   },
   "source": [
    "\n",
    "Exploring the data"
   ]
  },
  {
   "cell_type": "code",
   "execution_count": 5,
   "metadata": {
    "id": "-75ymHSj7w_3"
   },
   "outputs": [],
   "source": [
    "#Function to explore data\n",
    "def FMNIST_data_info(train_images, test_images, train_labels, test_labels):\n",
    "    print(\"Train images shape:\", train_images.shape)\n",
    "    print(\"Test images shape:\", test_images.shape)\n",
    "    print(\"Train labels:\", train_labels)\n",
    "    print(\"Test labels:\", test_labels)"
   ]
  },
  {
   "cell_type": "code",
   "execution_count": 6,
   "metadata": {
    "colab": {
     "base_uri": "https://localhost:8080/"
    },
    "id": "CX38hxut71wX",
    "outputId": "c6c12d7c-486d-4f4e-abac-709fc16b9ac8"
   },
   "outputs": [
    {
     "name": "stdout",
     "output_type": "stream",
     "text": [
      "Train images shape: (60000, 28, 28)\n",
      "Test images shape: (10000, 28, 28)\n",
      "Train labels: [9 0 0 ... 3 0 5]\n",
      "Test labels: [9 2 1 ... 8 1 5]\n"
     ]
    }
   ],
   "source": [
    "#Calling the function to see data info\n",
    "FMNIST_data_info(train_images, test_images, train_labels, test_labels)"
   ]
  },
  {
   "cell_type": "markdown",
   "metadata": {
    "id": "zei_okcP7-as"
   },
   "source": [
    "From above, the training set is of 60000 images having 28X28 dimension and test set is of 10000 images having 28X28 dimension"
   ]
  },
  {
   "cell_type": "markdown",
   "metadata": {
    "id": "9ncqXUWC7_WD"
   },
   "source": [
    "Plotting the last image of the training dataset"
   ]
  },
  {
   "cell_type": "code",
   "execution_count": 7,
   "metadata": {
    "id": "54pM1GlK75uV"
   },
   "outputs": [],
   "source": [
    "#Function to show last image\n",
    "def show_image(image):\n",
    "    plt.imshow(image, cmap='Greys')\n",
    "    ax = plt.gca()\n",
    "    ax.get_xaxis().set_visible(False)\n",
    "    ax.get_yaxis().set_visible(False)\n",
    "    plt.show()"
   ]
  },
  {
   "cell_type": "code",
   "execution_count": 8,
   "metadata": {
    "colab": {
     "base_uri": "https://localhost:8080/",
     "height": 406
    },
    "id": "ftDcIkAz51aG",
    "outputId": "b521bace-7df9-475e-c1e6-d86dd880b500"
   },
   "outputs": [
    {
     "data": {
      "image/png": "[encoded data removed]",
      "text/plain": [
       "<Figure size 640x480 with 1 Axes>"
      ]
     },
     "metadata": {},
     "output_type": "display_data"
    }
   ],
   "source": [
    "#Calling the function to plot image\n",
    "show_image(train_images[59999])"
   ]
  },
  {
   "cell_type": "markdown",
   "metadata": {
    "id": "HwIR47fm8Jia"
   },
   "source": [
    "Preprocessing of data"
   ]
  },
  {
   "cell_type": "code",
   "execution_count": 9,
   "metadata": {
    "id": "lIS2xJ7r8FUP"
   },
   "outputs": [],
   "source": [
    "#Function for checking for null values of labels in test and train dataset as they can hamper with the results and cause redundancy\n",
    "def count_null_values(labels):\n",
    "    null_values = np.isnan(labels).sum()\n",
    "    print(\"Null values:\", null_values)"
   ]
  },
  {
   "cell_type": "code",
   "execution_count": 10,
   "metadata": {
    "colab": {
     "base_uri": "https://localhost:8080/"
    },
    "id": "-OBQ-E406agG",
    "outputId": "6c3b6a3b-01ba-4f3e-b6f9-6650a0566cbe"
   },
   "outputs": [
    {
     "name": "stdout",
     "output_type": "stream",
     "text": [
      "Null values in train_labels:\n",
      "Null values: 0\n",
      "Null values in test_labels:\n",
      "Null values: 0\n"
     ]
    }
   ],
   "source": [
    "#Null values in Train_Labels\n",
    "print(\"Null values in train_labels:\")\n",
    "count_null_values(train_labels)\n",
    "\n",
    "#Null values in Test_Labels\n",
    "print(\"Null values in test_labels:\")\n",
    "count_null_values(test_labels)"
   ]
  },
  {
   "cell_type": "code",
   "execution_count": 11,
   "metadata": {
    "id": "qAEyVvRA8L2j"
   },
   "outputs": [],
   "source": [
    "#Since there are no null values, we can carry on with the model"
   ]
  },
  {
   "cell_type": "markdown",
   "metadata": {
    "id": "HkqcUtQO8Vp0"
   },
   "source": [
    "Building the model\n"
   ]
  },
  {
   "cell_type": "code",
   "execution_count": 12,
   "metadata": {
    "id": "awlrXx4i8NIc"
   },
   "outputs": [],
   "source": [
    "#Function for scaling the values to prevent numerical instability, this will ensure that all values lie in [0,1]\n",
    "def preprocess_images(images):\n",
    "    processed_images = images.reshape(-1, 28, 28, 1) / 255.0\n",
    "    return processed_images"
   ]
  },
  {
   "cell_type": "code",
   "execution_count": 13,
   "metadata": {
    "id": "_LaaKFrO7fId"
   },
   "outputs": [],
   "source": [
    "#Scaling the values of training dataset\n",
    "processed_train_images = preprocess_images(train_images)\n",
    "#Scaling the values of testing dataset\n",
    "processed_test_images = preprocess_images(test_images)"
   ]
  },
  {
   "cell_type": "code",
   "execution_count": 14,
   "metadata": {
    "id": "F5gBT2FLB6jB"
   },
   "outputs": [],
   "source": [
    "#Function for creating the model\n",
    "def create_model():\n",
    "    model = keras.Sequential([\n",
    "        #Total 20 layers are there in this CNN model having multiple cn layer, dropout layers, dense layers and batch normalisation layers\n",
    "        keras.layers.Conv2D(filters=32, kernel_size=(3, 3), activation='relu', input_shape=(28,28,1)), #Convolutional layer with 32 filters and a relu activation function\n",
    "        keras.layers.BatchNormalization(), #Layer to normalise the batch\n",
    "        keras.layers.Dropout(0.3), #Layer to stop 30% of the neurons randomly\n",
    "\n",
    "        keras.layers.Conv2D(filters=64, kernel_size=(3, 3), activation='relu'), #Convolutional layer with 64 filters and a relu activation function\n",
    "        keras.layers.MaxPooling2D(pool_size=(2, 2)),#Layer to normalise the batch\n",
    "        keras.layers.Dropout(0.3),#Layer to stop 30% of the neurons randomly\n",
    "\n",
    "        keras.layers.Conv2D(filters=128, kernel_size=(3, 3), activation='relu'), #Convolutional layer with 128 filters and a relu activation function\n",
    "        keras.layers.BatchNormalization(),#Layer to normalise the batch\n",
    "        keras.layers.Dropout(0.3),#Layer to stop 30% of the neurons randomly\n",
    "\n",
    "        keras.layers.Conv2D(filters=256, kernel_size=(3, 3), activation='relu'),  #Convolutional layer with 256 filters and a relu activation function\n",
    "        keras.layers.BatchNormalization(),#Layer to normalise the batch\n",
    "        keras.layers.Dropout(0.3),#Layer to stop 30% of the neurons randomly\n",
    "\n",
    "        keras.layers.Conv2D(filters=512, kernel_size=(3, 3), activation='relu'),  #Convolutional layer with 512 filters and a relu activation function\n",
    "        keras.layers.BatchNormalization(),#Layer to normalise the batch\n",
    "        keras.layers.Dropout(0.3),#Layer to stop 30% of the neurons randomly\n",
    "\n",
    "        keras.layers.Flatten(), #Layer to flatten the 2d feature to 1d vector\n",
    "        keras.layers.Dense(512, activation='relu'), #A fully connected layer with 512 neurons and a relu function\n",
    "        keras.layers.BatchNormalization(),#Layer to normalise the batch\n",
    "        keras.layers.Dropout(0.5),#Layer to stop 50% of the neurons randomly\n",
    "        keras.layers.Dense(128, activation='relu'), #A fully connected layer with 128 neurons and a relu function\n",
    "        keras.layers.BatchNormalization(),#Layer to normalise the batch\n",
    "        keras.layers.Dropout(0.5),#Layer to stop 50% of the neurons randomly\n",
    "        keras.layers.Dense(64, activation='relu'), #A fully connected layer with 64 neurons and a relu function\n",
    "        keras.layers.BatchNormalization(),#Layer to normalise the batch\n",
    "        keras.layers.Dropout(0.5),#Layer to stop 50% of the neurons randomly\n",
    "        keras.layers.Dense(10, activation='softmax') #A fully connected layer with 10 neurons and a relu function to give the output labels\n",
    "    ])\n",
    "\n",
    "    return model\n"
   ]
  },
  {
   "cell_type": "code",
   "execution_count": 15,
   "metadata": {
    "id": "JZyf-bV3BN-2"
   },
   "outputs": [],
   "source": [
    "#Calling the function to create the CNN model\n",
    "model=create_model()"
   ]
  },
  {
   "cell_type": "code",
   "execution_count": 16,
   "metadata": {
    "id": "T0njhB_ECDTb"
   },
   "outputs": [],
   "source": [
    "#Compiling the model\n",
    "model.compile(optimizer='adam',loss='sparse_categorical_crossentropy',metrics=['accuracy'])"
   ]
  },
  {
   "cell_type": "code",
   "execution_count": 17,
   "metadata": {
    "id": "WqEMIaDu7zN7"
   },
   "outputs": [],
   "source": [
    "# Learning Rate Schedule to improve optimisation\n",
    "lr_scheduler = keras.callbacks.ReduceLROnPlateau(factor=0.1, patience=0)"
   ]
  },
  {
   "cell_type": "code",
   "execution_count": 18,
   "metadata": {
    "colab": {
     "base_uri": "https://localhost:8080/"
    },
    "id": "8J25woZICWeJ",
    "outputId": "16863b9f-036d-4e15-e808-ec86a2db4ee8"
   },
   "outputs": [
    {
     "name": "stdout",
     "output_type": "stream",
     "text": [
      "Epoch 1/10\n",
      "1875/1875 [==============================] - 181s 96ms/step - loss: 0.7803 - accuracy: 0.7293\n",
      "Epoch 2/10\n",
      "1875/1875 [==============================] - 180s 96ms/step - loss: 0.4698 - accuracy: 0.8449\n",
      "Epoch 3/10\n",
      "1875/1875 [==============================] - 182s 97ms/step - loss: 0.4066 - accuracy: 0.8665\n",
      "Epoch 4/10\n",
      "1875/1875 [==============================] - 181s 97ms/step - loss: 0.3659 - accuracy: 0.8799\n",
      "Epoch 5/10\n",
      "1875/1875 [==============================] - 182s 97ms/step - loss: 0.3362 - accuracy: 0.8889\n",
      "Epoch 6/10\n",
      "1875/1875 [==============================] - 182s 97ms/step - loss: 0.3149 - accuracy: 0.8959\n",
      "Epoch 7/10\n",
      "1875/1875 [==============================] - 184s 98ms/step - loss: 0.2931 - accuracy: 0.9032\n",
      "Epoch 8/10\n",
      "1875/1875 [==============================] - 195s 104ms/step - loss: 0.2746 - accuracy: 0.9091\n",
      "Epoch 9/10\n",
      "1875/1875 [==============================] - 195s 104ms/step - loss: 0.2616 - accuracy: 0.9138\n",
      "Epoch 10/10\n",
      "1875/1875 [==============================] - 194s 104ms/step - loss: 0.2514 - accuracy: 0.9164\n"
     ]
    },
    {
     "data": {
      "text/plain": [
       "<keras.src.callbacks.History at 0x7f6eec469220>"
      ]
     },
     "execution_count": 18,
     "metadata": {},
     "output_type": "execute_result"
    }
   ],
   "source": [
    "# Fitting the model on training images labels and running the model for epochs=10\n",
    "model.fit(train_images, train_labels, epochs=10, batch_size=32, verbose=1)"
   ]
  },
  {
   "cell_type": "code",
   "execution_count": 19,
   "metadata": {
    "id": "bdAzRsIknRAx"
   },
   "outputs": [],
   "source": [
    "#Function for using the plot_model function to look at the layers of the model\n",
    "def layers_of_model(model):\n",
    "    model.build(input_shape=(None, 28, 28, 1))\n",
    "    model.summary()\n",
    "    plot_model(model, to_file='model_architecture.png', show_shapes=True, show_layer_names=True)"
   ]
  },
  {
   "cell_type": "code",
   "execution_count": 20,
   "metadata": {
    "colab": {
     "base_uri": "https://localhost:8080/"
    },
    "id": "Q_tgzUsdECbh",
    "outputId": "6bbf67aa-897f-42a4-a3e3-dc39197f67f5"
   },
   "outputs": [
    {
     "name": "stdout",
     "output_type": "stream",
     "text": [
      "Model: \"sequential\"\n",
      "_________________________________________________________________\n",
      " Layer (type)                Output Shape              Param #   \n",
      "=================================================================\n",
      " conv2d (Conv2D)             (None, 26, 26, 32)        320       \n",
      "                                                                 \n",
      " batch_normalization (Batch  (None, 26, 26, 32)        128       \n",
      " Normalization)                                                  \n",
      "                                                                 \n",
      " dropout (Dropout)           (None, 26, 26, 32)        0         \n",
      "                                                                 \n",
      " conv2d_1 (Conv2D)           (None, 24, 24, 64)        18496     \n",
      "                                                                 \n",
      " max_pooling2d (MaxPooling2  (None, 12, 12, 64)        0         \n",
      " D)                                                              \n",
      "                                                                 \n",
      " dropout_1 (Dropout)         (None, 12, 12, 64)        0         \n",
      "                                                                 \n",
      " conv2d_2 (Conv2D)           (None, 10, 10, 128)       73856     \n",
      "                                                                 \n",
      " batch_normalization_1 (Bat  (None, 10, 10, 128)       512       \n",
      " chNormalization)                                                \n",
      "                                                                 \n",
      " dropout_2 (Dropout)         (None, 10, 10, 128)       0         \n",
      "                                                                 \n",
      " conv2d_3 (Conv2D)           (None, 8, 8, 256)         295168    \n",
      "                                                                 \n",
      " batch_normalization_2 (Bat  (None, 8, 8, 256)         1024      \n",
      " chNormalization)                                                \n",
      "                                                                 \n",
      " dropout_3 (Dropout)         (None, 8, 8, 256)         0         \n",
      "                                                                 \n",
      " conv2d_4 (Conv2D)           (None, 6, 6, 512)         1180160   \n",
      "                                                                 \n",
      " batch_normalization_3 (Bat  (None, 6, 6, 512)         2048      \n",
      " chNormalization)                                                \n",
      "                                                                 \n",
      " dropout_4 (Dropout)         (None, 6, 6, 512)         0         \n",
      "                                                                 \n",
      " flatten (Flatten)           (None, 18432)             0         \n",
      "                                                                 \n",
      " dense (Dense)               (None, 512)               9437696   \n",
      "                                                                 \n",
      " batch_normalization_4 (Bat  (None, 512)               2048      \n",
      " chNormalization)                                                \n",
      "                                                                 \n",
      " dropout_5 (Dropout)         (None, 512)               0         \n",
      "                                                                 \n",
      " dense_1 (Dense)             (None, 128)               65664     \n",
      "                                                                 \n",
      " batch_normalization_5 (Bat  (None, 128)               512       \n",
      " chNormalization)                                                \n",
      "                                                                 \n",
      " dropout_6 (Dropout)         (None, 128)               0         \n",
      "                                                                 \n",
      " dense_2 (Dense)             (None, 64)                8256      \n",
      "                                                                 \n",
      " batch_normalization_6 (Bat  (None, 64)                256       \n",
      " chNormalization)                                                \n",
      "                                                                 \n",
      " dropout_7 (Dropout)         (None, 64)                0         \n",
      "                                                                 \n",
      " dense_3 (Dense)             (None, 10)                650       \n",
      "                                                                 \n",
      "=================================================================\n",
      "Total params: 11086794 (42.29 MB)\n",
      "Trainable params: 11083530 (42.28 MB)\n",
      "Non-trainable params: 3264 (12.75 KB)\n",
      "_________________________________________________________________\n",
      "You must install pydot (`pip install pydot`) and install graphviz (see instructions at https://graphviz.gitlab.io/download/) for plot_model to work.\n"
     ]
    }
   ],
   "source": [
    "#Calling the function to look at the layers\n",
    "layers_of_model(model)\n"
   ]
  },
  {
   "cell_type": "code",
   "execution_count": 21,
   "metadata": {
    "colab": {
     "base_uri": "https://localhost:8080/"
    },
    "id": "ZfdroC67H19_",
    "outputId": "38b6c82b-aa57-48d2-c1e1-f08281afd29a"
   },
   "outputs": [
    {
     "name": "stdout",
     "output_type": "stream",
     "text": [
      "313/313 [==============================] - 4s 12ms/step\n"
     ]
    }
   ],
   "source": [
    "#Storing predicted value in a variable\n",
    "predictions = model.predict(test_images)\n",
    "predicted_val = np.argmax(predictions, axis=1)"
   ]
  },
  {
   "cell_type": "code",
   "execution_count": 22,
   "metadata": {
    "id": "2EU8k1ngGL2U"
   },
   "outputs": [],
   "source": [
    "#Function to calculate test_accuracy and loss\n",
    "def test_model(model, test_images, test_labels):\n",
    "    test_loss, test_acc = model.evaluate(test_images, test_labels, verbose=2)\n",
    "    test_acc = test_acc * 100\n",
    "    print('Test loss:', test_loss)\n",
    "    print('Test accuracy in percentage:', test_acc)"
   ]
  },
  {
   "cell_type": "code",
   "execution_count": 23,
   "metadata": {
    "colab": {
     "base_uri": "https://localhost:8080/"
    },
    "id": "waFMZ0u9Rv_j",
    "outputId": "17a9202d-8f2a-4f9c-8322-5f0652ce95e1"
   },
   "outputs": [
    {
     "name": "stdout",
     "output_type": "stream",
     "text": [
      "313/313 - 4s - loss: 0.2288 - accuracy: 0.9204 - 4s/epoch - 12ms/step\n",
      "Test loss: 0.2288169413805008\n",
      "Test accuracy in percentage: 92.04000234603882\n"
     ]
    }
   ],
   "source": [
    "# Calling the function for calculating test_accuracy\n",
    "test_model(model, test_images, test_labels)"
   ]
  },
  {
   "cell_type": "code",
   "execution_count": 24,
   "metadata": {
    "id": "7IITu-g9CegO"
   },
   "outputs": [],
   "source": [
    "#Building a confusion matrix and using seaborn's heatmap to show the confusion matrix\n",
    "def create_confusion_matrix(model, test_images, test_labels):\n",
    "    y_pred = np.argmax(model.predict(test_images), axis=-1)\n",
    "    cm = confusion_matrix(test_labels, y_pred)\n",
    "\n",
    "    plt.figure(figsize=(8, 6))\n",
    "    sns.heatmap(cm, annot=True, fmt=\"d\", cmap=\"Reds\", cbar=False)\n",
    "    plt.xlabel('Predicted labels')\n",
    "    plt.ylabel('True labels')\n",
    "    plt.title('Confusion Matrix')\n",
    "    plt.show()\n"
   ]
  },
  {
   "cell_type": "code",
   "execution_count": 25,
   "metadata": {
    "colab": {
     "base_uri": "https://localhost:8080/",
     "height": 581
    },
    "id": "Ri0Eov2mR5yP",
    "outputId": "b15465f0-728f-4ad6-8b6c-58bf72a8fd2f"
   },
   "outputs": [
    {
     "name": "stdout",
     "output_type": "stream",
     "text": [
      "313/313 [==============================] - 4s 12ms/step\n"
     ]
    },
    {
     "data": {
      "image/png": "[encoded data removed]",
      "text/plain": [
       "<Figure size 800x600 with 1 Axes>"
      ]
     },
     "metadata": {},
     "output_type": "display_data"
    }
   ],
   "source": [
    "#Calling the function for generating the confusion matrix\n",
    "create_confusion_matrix(model, test_images, test_labels)"
   ]
  },
  {
   "cell_type": "code",
   "execution_count": 26,
   "metadata": {
    "id": "xJlX4jQ1FSmU"
   },
   "outputs": [],
   "source": [
    "#Function to create a classification report using sklearn\n",
    "def print_classification_report(model, test_images, test_labels):\n",
    "    y_pred = np.argmax(model.predict(test_images), axis=-1)\n",
    "    classification_rep = report(test_labels, y_pred)\n",
    "    print(classification_rep)\n"
   ]
  },
  {
   "cell_type": "code",
   "execution_count": 27,
   "metadata": {
    "colab": {
     "base_uri": "https://localhost:8080/"
    },
    "id": "zEX8wg8LS5md",
    "outputId": "4559da5a-f537-467b-f792-f9fa09650d26"
   },
   "outputs": [
    {
     "name": "stdout",
     "output_type": "stream",
     "text": [
      "313/313 [==============================] - 4s 12ms/step\n",
      "              precision    recall  f1-score   support\n",
      "\n",
      "           0       0.87      0.89      0.88      1000\n",
      "           1       0.99      0.99      0.99      1000\n",
      "           2       0.84      0.91      0.88      1000\n",
      "           3       0.91      0.93      0.92      1000\n",
      "           4       0.85      0.89      0.87      1000\n",
      "           5       0.99      0.98      0.98      1000\n",
      "           6       0.84      0.68      0.75      1000\n",
      "           7       0.94      0.99      0.96      1000\n",
      "           8       0.98      0.99      0.99      1000\n",
      "           9       0.99      0.95      0.97      1000\n",
      "\n",
      "    accuracy                           0.92     10000\n",
      "   macro avg       0.92      0.92      0.92     10000\n",
      "weighted avg       0.92      0.92      0.92     10000\n",
      "\n"
     ]
    }
   ],
   "source": [
    "# Calling the function for generating the classification report\n",
    "print_classification_report(model, test_images, test_labels)"
   ]
  },
  {
   "cell_type": "code",
   "execution_count": 28,
   "metadata": {
    "id": "Z0WzohtvHY96"
   },
   "outputs": [],
   "source": [
    "#Function for plotting Receiver Operating Characterstic Curve\n",
    "def plot_roc_curve(model, test_images, test_labels):\n",
    "    y_scores = model.predict(test_images)\n",
    "\n",
    "    test_labels_bin = label_binarize(test_labels, classes=np.unique(test_labels))\n",
    "    fpr = dict()\n",
    "    tpr = dict()\n",
    "    roc_auc = dict()\n",
    "    n_classes = test_labels_bin.shape[1]\n",
    "    for i in range(n_classes):\n",
    "        fpr[i], tpr[i], _ = roc_curve(test_labels_bin[:, i], y_scores[:, i])\n",
    "        roc_auc[i] = auc(fpr[i], tpr[i])\n",
    "\n",
    "\n",
    "    fpr[\"micro\"], tpr[\"micro\"], _ = roc_curve(test_labels_bin.ravel(), y_scores.ravel())\n",
    "    roc_auc[\"micro\"] = auc(fpr[\"micro\"], tpr[\"micro\"])\n",
    "\n",
    "    # Plot ROC curve for each class\n",
    "    plt.figure()\n",
    "    lw = 2\n",
    "    colors = ['blue', 'red', 'green', 'orange', 'purple', 'brown', 'pink', 'gray', 'olive', 'cyan']\n",
    "    for i, color in zip(range(n_classes), colors):\n",
    "        plt.plot(fpr[i], tpr[i], color=color, lw=lw,\n",
    "                 label='ROC curve of class {0} (area = {1:0.2f})'\n",
    "                 ''.format(i, roc_auc[i]))\n",
    "\n",
    "    plt.plot(fpr[\"micro\"], tpr[\"micro\"],\n",
    "             label='micro-average ROC curve (area = {0:0.2f})'\n",
    "             ''.format(roc_auc[\"micro\"]),\n",
    "             color='deeppink', linestyle=':', linewidth=4)\n",
    "    plt.plot([0, 1], [0, 1], color='navy', lw=lw, linestyle='--')\n",
    "    plt.xlabel('False Positive Rate')\n",
    "    plt.ylabel('True Positive Rate')\n",
    "    plt.title('Receiver Operating Characteristic (ROC) Curve')\n",
    "    plt.legend(loc=\"lower right\")\n",
    "    plt.show()"
   ]
  },
  {
   "cell_type": "code",
   "execution_count": 29,
   "metadata": {
    "colab": {
     "base_uri": "https://localhost:8080/",
     "height": 489
    },
    "id": "cP8PQTa7VUNI",
    "outputId": "1c13f294-3867-41e7-be89-e225d0bc367c"
   },
   "outputs": [
    {
     "name": "stdout",
     "output_type": "stream",
     "text": [
      "313/313 [==============================] - 4s 12ms/step\n"
     ]
    },
    {
     "data": {
      "image/png": "[encoded data removed]",
      "text/plain": [
       "<Figure size 640x480 with 1 Axes>"
      ]
     },
     "metadata": {},
     "output_type": "display_data"
    }
   ],
   "source": [
    "# Calling function for plotting roc curve\n",
    "plot_roc_curve(model, test_images, test_labels)"
   ]
  },
  {
   "cell_type": "code",
   "execution_count": 30,
   "metadata": {
    "id": "jj4iJx5rI4hj"
   },
   "outputs": [],
   "source": [
    "#Function to calculate INtersection over union\n",
    "def calculate_iou(test_labels, predicted_val):\n",
    "    intersection = np.logical_and(test_labels,predicted_val)\n",
    "    union = np.logical_or(test_labels, predicted_val)\n",
    "    iou = np.sum(intersection) / np.sum(union)\n",
    "    print(\"Intersection over Union is: \", iou)\n"
   ]
  },
  {
   "cell_type": "code",
   "execution_count": 32,
   "metadata": {
    "colab": {
     "base_uri": "https://localhost:8080/"
    },
    "id": "HhtImx0-V8V1",
    "outputId": "a88cc599-8efc-4eef-a891-7600128dea43"
   },
   "outputs": [
    {
     "name": "stdout",
     "output_type": "stream",
     "text": [
      "Intersection over Union is:  0.9731094281637581\n"
     ]
    }
   ],
   "source": [
    "#Calling function to get Intersection over Union value\n",
    "calculate_iou(test_labels, predicted_val)"
   ]
  },
  {
   "cell_type": "code",
   "execution_count": 33,
   "metadata": {},
   "outputs": [],
   "source": [
    "model.save('model.h5')\n"
   ]
  },
  {
   "cell_type": "code",
   "execution_count": 34,
   "metadata": {},
   "outputs": [
    {
     "name": "stdout",
     "output_type": "stream",
     "text": [
      "INFO:tensorflow:Assets written to: model/assets\n"
     ]
    },
    {
     "name": "stderr",
     "output_type": "stream",
     "text": [
      "INFO:tensorflow:Assets written to: model/assets\n"
     ]
    }
   ],
   "source": [
    "import tensorflow as tf\n",
    "model = tf.keras.models.load_model('model.h5')\n",
    "tf.saved_model.save(model,'model')"
   ]
  },
  {
   "cell_type": "code",
   "execution_count": 41,
   "metadata": {},
   "outputs": [
    {
     "name": "stdout",
     "output_type": "stream",
     "text": [
      "Total inference time for the Fashion MNIST dataset: 11.98705 seconds\n",
      "Average inference time per image: 0.00120 seconds\n"
     ]
    }
   ],
   "source": [
    "from openvino.inference_engine import IECore\n",
    "import time\n",
    "import numpy as np\n",
    "\n",
    "ie = IECore()\n",
    "\n",
    "# Load the optimized model\n",
    "optimized_model = ie.read_network(model=\"./saved_model.xml\", weights=\"./saved_model.bin\")\n",
    "input_blob = next(iter(optimized_model.input_info))\n",
    "optimized_model.reshape({input_blob: (1, 28, 28, 1)})\n",
    "\n",
    "exec_net = ie.load_network(network=optimized_model, device_name=\"CPU\")\n",
    "#Setting the inference time to 0 and running the loop to calculate it\n",
    "total_inference_time = 0\n",
    "for input_data in test_images:\n",
    "    input_data = input_data.reshape((1, 28, 28, 1))\n",
    "\n",
    "    start = time.time()\n",
    "    res = exec_net.infer(inputs={input_blob: input_data})\n",
    "    end = time.time()\n",
    "    inference_time = end - start\n",
    "    total_inference_time += inference_time\n",
    "\n",
    "average_inference_time = total_inference_time / len(test_images)\n",
    "\n",
    "print(\"Total inference time for the Fashion MNIST dataset: {:.5f} seconds\".format(total_inference_time))\n",
    "print(\"Average inference time per image: {:.5f} seconds\".format(average_inference_time))\n"
   ]
  }
 ],
 "metadata": {
  "accelerator": "GPU",
  "colab": {
   "gpuType": "T4",
   "provenance": []
  },
  "kernelspec": {
   "display_name": "Python 3 (Intel® oneAPI 2023.1)",
   "language": "python",
   "name": "c009-intel_distribution_of_python_3_oneapi-beta05-python"
  },
  "language_info": {
   "codemirror_mode": {
    "name": "ipython",
    "version": 3
   },
   "file_extension": ".py",
   "mimetype": "text/x-python",
   "name": "python",
   "nbconvert_exporter": "python",
   "pygments_lexer": "ipython3",
   "version": "3.9.16"
  }
 },
 "nbformat": 4,
 "nbformat_minor": 4
}
